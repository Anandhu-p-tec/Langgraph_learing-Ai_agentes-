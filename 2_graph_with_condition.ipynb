{
 "cells": [
  {
   "cell_type": "markdown",
   "id": "1d345cf7",
   "metadata": {},
   "source": [
    "# PortfolioState TypedDict\n",
    "\n",
    "This code defines a **structured dictionary** to represent the **state of a financial portfolio** in Python. Using `TypedDict` ensures that the dictionary has **specific keys with defined types**, which helps prevent errors and makes the code easier to understand and maintain.\n",
    "\n",
    "## Purpose of the Code\n",
    "- To create a **type-safe way** to store portfolio data.\n",
    "- To enforce **what kind of values** each key can hold:\n",
    "  - `amount_usd` → Amount of money in USD.\n",
    "  - `total_usd` → Total value in USD.\n",
    "  - `target_currency` → The currency you want to convert your portfolio into (`'inr'` or `'eur'` only).\n",
    "  - `total` → Total portfolio value in the target currency.\n",
    "\n",
    "## Why This is Useful\n",
    "- Provides **clarity** about the structure of portfolio data.\n",
    "- Helps **catch errors early** if someone assigns the wrong type or invalid currency.\n",
    "- Makes the code **easier to read, maintain, and extend** for future calculations or features.\n"
   ]
  },
  {
   "cell_type": "code",
   "execution_count": 31,
   "id": "a16e20a3",
   "metadata": {},
   "outputs": [],
   "source": [
    "from typing import TypedDict ,Literal\n",
    "class PortfolioState(TypedDict):\n",
    "    amount_usd: float\n",
    "    total_usd: float\n",
    "    target_currency: Literal['inr', 'eur']\n",
    "    total: float\n",
    "    \n"
   ]
  },
  {
   "cell_type": "markdown",
   "id": "0c81a3ac",
   "metadata": {},
   "source": [
    "# PortfolioState Functions\n",
    "\n",
    "These functions operate on a `PortfolioState` dictionary to **calculate total values** and **convert currencies** based on the target currency.\n",
    "\n",
    "### 1. `calc_total(state: PortfolioState) -> PortfolioState`\n",
    "- Calculates `total_usd` by applying an **8% increase** on `amount_usd`.  \n",
    "- Returns the updated `state` dictionary.  \n",
    "- Example: If `amount_usd = 1000`, `total_usd = 1080`.\n",
    "\n",
    "### 2. `convert_to_inr(state: PortfolioState) -> PortfolioState`\n",
    "- Converts `total_usd` to **Indian Rupees (INR)** using a conversion rate of `82.0`.  \n",
    "- Updates the `total` field in the dictionary.  \n",
    "- Example: `total_usd = 1080` → `total = 88560`.\n",
    "\n",
    "### 3. `convert_to_eur(state: PortfolioState) -> PortfolioState`\n",
    "- Converts `total_usd` to **Euros (EUR)** using a conversion rate of `0.93`.  \n",
    "- Updates the `total` field in the dictionary.  \n",
    "- Example: `total_usd = 1080` → `total = 1004.4`.\n",
    "\n",
    "### 4. `choose_conversion(state: PortfolioState) -> str`\n",
    "- Decides which conversion function to use based on `target_currency`.  \n",
    "- Returns:\n",
    "  - `'convert_to_inr'` if `target_currency` is `'inr'`\n",
    "  - `'convert_to_eur'` if `target_currency` is `'eur'`  \n",
    "- Raises a `ValueError` if the currency is unsupported.\n",
    "\n",
    "---\n",
    "\n",
    "### **Purpose of These Functions**\n",
    "- Automates **calculations and currency conversions** for a portfolio.  \n",
    "- Ensures **type-safe operations** on the `PortfolioState` dictionary.  \n",
    "- Makes it easy to **expand or modify conversion rates** in the future.\n"
   ]
  },
  {
   "cell_type": "code",
   "execution_count": 32,
   "id": "3228d0c6",
   "metadata": {},
   "outputs": [],
   "source": [
    "def calc_total(state: PortfolioState) -> PortfolioState:\n",
    "    state['total_usd'] = state['amount_usd'] * 1.08\n",
    "    return state\n",
    "def convert_to_inr(state: PortfolioState) -> PortfolioState:\n",
    "    state['total'] = state['total_usd'] * 82.0\n",
    "    return state\n",
    "def convert_to_eur(state: PortfolioState) -> PortfolioState:\n",
    "    state['total'] = state['total_usd'] * 0.93\n",
    "    return state\n",
    "def choose_conversion(state: PortfolioState) -> str:\n",
    "    if state['target_currency'] == 'inr':\n",
    "        return 'convert_to_inr'\n",
    "    elif state['target_currency'] == 'eur':\n",
    "        return 'convert_to_eur'\n",
    "    else:\n",
    "        raise ValueError(f\"Unsupported currency: {state['target_currency']}\")"
   ]
  },
  {
   "cell_type": "markdown",
   "id": "48c1ed1f",
   "metadata": {},
   "source": [
    "\n",
    "# PortfolioState Workflow with LangGraph\n",
    "\n",
    "This code defines a **state graph workflow** using `LangGraph` to automate portfolio calculations and currency conversions. \n",
    "\n",
    "## What It Does\n",
    "- Calculates the total value in USD from an initial `amount_usd`.\n",
    "- Converts the total to the **target currency** (INR or EUR) dynamically based on user choice.\n",
    "- Executes a clear workflow from **START → calculation → conversion → END**.\n",
    "\n",
    "## Characteristics\n",
    "- **Type-Safe**: Operates on the `PortfolioState` TypedDict, ensuring all dictionary keys and types are correct.\n",
    "- **Modular**: Each step (`calc_total`, `convert_to_inr`, `convert_to_eur`) is a separate function (node) in the graph.\n",
    "- **Dynamic**: Uses `choose_conversion` to decide the next step based on the target currency.\n",
    "- **Structured Workflow**: Clearly defines the execution order with conditional edges and start/end nodes.\n",
    "- **Extensible**: Easy to add more currencies or additional calculations in the future.\n",
    "\n",
    "This workflow makes financial portfolio operations **automated, readable, and maintainable**.\n",
    "\n"
   ]
  },
  {
   "cell_type": "code",
   "execution_count": 33,
   "id": "08d6c9fa",
   "metadata": {},
   "outputs": [],
   "source": [
    "from langgraph.graph import StateGraph ,START, END\n",
    "builder = StateGraph(PortfolioState)\n",
    "builder.add_node('calc_total', calc_total)\n",
    "builder.add_node('convert_to_inr', convert_to_inr)\n",
    "builder.add_node('convert_to_eur', convert_to_eur)\n",
    "builder.add_edge(START, 'calc_total')\n",
    "builder.add_conditional_edges('calc_total', choose_conversion, {\n",
    "    'convert_to_inr': 'convert_to_inr',\n",
    "    'convert_to_eur': 'convert_to_eur'\n",
    "})\n",
    "builder.add_edge(['convert_to_inr', 'convert_to_eur'], END)\n",
    "graph = builder.compile()"
   ]
  },
  {
   "cell_type": "code",
   "execution_count": 37,
   "id": "e77e9734",
   "metadata": {},
   "outputs": [
    {
     "data": {
      "image/png": "[encoded data removed]",
      "text/plain": [
       "<IPython.core.display.Image object>"
      ]
     },
     "metadata": {},
     "output_type": "display_data"
    }
   ],
   "source": [
    "from IPython.display import Image, display\n",
    "\n",
    "display(Image(graph.get_graph().draw_mermaid_png()))"
   ]
  },
  {
   "cell_type": "code",
   "execution_count": 35,
   "id": "d48c0a08",
   "metadata": {},
   "outputs": [
    {
     "data": {
      "text/plain": [
       "{'amount_usd': 100.0,\n",
       " 'total_usd': 108.0,\n",
       " 'target_currency': 'eur',\n",
       " 'total': 100.44000000000001}"
      ]
     },
     "execution_count": 35,
     "metadata": {},
     "output_type": "execute_result"
    }
   ],
   "source": [
    "graph.invoke({'amount_usd': 100.0, 'target_currency': 'eur'})"
   ]
  },
  {
   "cell_type": "code",
   "execution_count": 36,
   "id": "07c10375",
   "metadata": {},
   "outputs": [
    {
     "data": {
      "text/plain": [
       "{'amount_usd': 100.0,\n",
       " 'total_usd': 108.0,\n",
       " 'target_currency': 'inr',\n",
       " 'total': 8856.0}"
      ]
     },
     "execution_count": 36,
     "metadata": {},
     "output_type": "execute_result"
    }
   ],
   "source": [
    "graph.invoke({'amount_usd': 100.0, 'target_currency': 'inr'})"
   ]
  }
 ],
 "metadata": {
  "kernelspec": {
   "display_name": "langgraph-learning",
   "language": "python",
   "name": "python3"
  },
  "language_info": {
   "codemirror_mode": {
    "name": "ipython",
    "version": 3
   },
   "file_extension": ".py",
   "mimetype": "text/x-python",
   "name": "python",
   "nbconvert_exporter": "python",
   "pygments_lexer": "ipython3",
   "version": "3.13.5"
  }
 },
 "nbformat": 4,
 "nbformat_minor": 5
}
