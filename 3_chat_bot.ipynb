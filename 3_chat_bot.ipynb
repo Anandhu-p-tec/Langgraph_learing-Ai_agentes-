{
 "cells": [
  {
   "cell_type": "code",
   "execution_count": 7,
   "id": "9d618f83",
   "metadata": {},
   "outputs": [],
   "source": [
    "from typing import Annotated\n",
    "from dotenv import load_dotenv\n",
    "load_dotenv()\n",
    "\n",
    "from typing_extensions import TypedDict\n",
    "from langchain.chat_models import init_chat_model\n",
    "from langgraph.graph import StateGraph, START, END\n",
    "from langgraph.graph.message import add_messages"
   ]
  },
  {
   "cell_type": "code",
   "execution_count": 8,
   "id": "c371ef11",
   "metadata": {},
   "outputs": [],
   "source": [
    "from langchain.chat_models import init_chat_model"
   ]
  },
  {
   "cell_type": "markdown",
   "id": "b3b5d857",
   "metadata": {},
   "source": [
    "# 🎯 Purpose\n",
    "\n",
    "This code defines a simple **chatbot workflow** using LangGraph.  \n",
    "- It initializes the Gemini 2.0 Flash LLM.  \n",
    "- Defines a conversation `State` to hold messages.  \n",
    "- Creates a chatbot node that generates responses using the LLM.  \n",
    "- Builds a state graph with a linear flow (`START → chatbot_node → END`).  \n",
    "- Compiles the graph into an executable workflow that can maintain conversation history and generate replies.  \n"
   ]
  },
  {
   "cell_type": "code",
   "execution_count": 9,
   "id": "37f29d8b",
   "metadata": {},
   "outputs": [],
   "source": [
    "llm = init_chat_model(\"google_genai:gemini-2.0-flash\")\n",
    "\n",
    "class State(TypedDict):\n",
    "    messages: Annotated[list, add_messages]\n",
    "\n",
    "def chatbot(state: State) -> State:\n",
    "    return {\"messages\": [llm.invoke(state[\"messages\"])]}\n",
    "\n",
    "builder = StateGraph(State)\n",
    "builder.add_node(\"chatbot_node\", chatbot)\n",
    "\n",
    "builder.add_edge(START, \"chatbot_node\")\n",
    "builder.add_edge(\"chatbot_node\", END)\n",
    "\n",
    "graph = builder.compile()"
   ]
  },
  {
   "cell_type": "markdown",
   "id": "030891ac",
   "metadata": {},
   "source": [
    "\n",
    "\n",
    "## This code demonstrates a **one-shot execution** of the chatbot graph.\n",
    "\n",
    "**Characteristics:**\n",
    "- Executes the graph once for a single user query.  \n",
    "- Shows both input and output for that query.  \n",
    "- Demonstrates how to send a message into the chatbot graph and inspect the response.  \n",
    "- State (conversation history) exists but is **not reused** after this call.  \n"
   ]
  },
  {
   "cell_type": "code",
   "execution_count": 12,
   "id": "dc952606",
   "metadata": {},
   "outputs": [
    {
     "data": {
      "text/plain": [
       "[HumanMessage(content='Who walked on the moon for the first time? Print only the name', additional_kwargs={}, response_metadata={}, id='03fa9fb7-7b6d-4639-a7a8-ee5dc8b53d30'),\n",
       " AIMessage(content='Neil Armstrong', additional_kwargs={}, response_metadata={'prompt_feedback': {'block_reason': 0, 'safety_ratings': []}, 'finish_reason': 'STOP', 'model_name': 'gemini-2.0-flash', 'safety_ratings': []}, id='run--20c75bb1-1e93-4b88-8e35-877f710cce57-0', usage_metadata={'input_tokens': 14, 'output_tokens': 3, 'total_tokens': 17, 'input_token_details': {'cache_read': 0}})]"
      ]
     },
     "execution_count": 12,
     "metadata": {},
     "output_type": "execute_result"
    }
   ],
   "source": [
    "message = {\"role\": \"user\", \"content\": \"Who walked on the moon for the first time? Print only the name\"}\n",
    "#message = {\"role\": \"user\", \"content\": \"What is the latest price of MSFT stock?\"}\n",
    "response = graph.invoke({\"messages\":[message]})\n",
    "\n",
    "response[\"messages\"]"
   ]
  },
  {
   "cell_type": "markdown",
   "id": "3dcf8ac3",
   "metadata": {},
   "source": [
    "\n",
    "## This code creates an **interactive chatbot loop** using the compiled graph.\n",
    "\n",
    "**Characteristics:**\n",
    "- Allows continuous multi-turn conversation with the user.  \n",
    "- Maintains and updates the conversation **state** across turns (chatbot remembers context).  \n",
    "- User input is taken dynamically until `\"quit\"` or `\"exit\"` is entered.  \n",
    "- The bot responds with the latest message from the conversation history.  \n",
    "- Demonstrates a **realistic chatbot behavior** rather than a single one-shot query.  \n"
   ]
  },
  {
   "cell_type": "code",
   "execution_count": 13,
   "id": "b4dfec0c",
   "metadata": {},
   "outputs": [
    {
     "name": "stdout",
     "output_type": "stream",
     "text": [
      "Bot: Neil Armstrong\n",
      "Bot: I am a large language model, trained by Google.\n",
      "Bot: I don't have a name in the way a person does. You can think of me as a tool.\n",
      "Bot: Your first question was: \"Who walked on the moon for the first time?\"\n",
      "Bot: Okay, goodbye! Let me know if you have any other questions later.\n"
     ]
    }
   ],
   "source": [
    "state = None\n",
    "while True:\n",
    "    in_message = input(\"You: \")\n",
    "    if in_message.lower() in {\"quit\",\"exit\"}:\n",
    "        break\n",
    "    if state is None:\n",
    "        state: State = {\n",
    "            \"messages\": [{\"role\": \"user\", \"content\": in_message}]\n",
    "        }\n",
    "    else:\n",
    "        state[\"messages\"].append({\"role\": \"user\", \"content\": in_message})\n",
    "\n",
    "    state = graph.invoke(state)\n",
    "    print(\"Bot:\", state[\"messages\"][-1].content)"
   ]
  }
 ],
 "metadata": {
  "kernelspec": {
   "display_name": "langgraph-learning",
   "language": "python",
   "name": "python3"
  },
  "language_info": {
   "codemirror_mode": {
    "name": "ipython",
    "version": 3
   },
   "file_extension": ".py",
   "mimetype": "text/x-python",
   "name": "python",
   "nbconvert_exporter": "python",
   "pygments_lexer": "ipython3",
   "version": "3.13.5"
  }
 },
 "nbformat": 4,
 "nbformat_minor": 5
}
