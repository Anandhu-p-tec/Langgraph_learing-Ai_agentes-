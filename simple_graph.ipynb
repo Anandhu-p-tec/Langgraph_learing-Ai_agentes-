{
 "cells": [
  {
   "cell_type": "code",
   "execution_count": 12,
   "id": "68d426f7",
   "metadata": {},
   "outputs": [],
   "source": [
    "from typing import TypedDict\n",
    "class PortfolioState(TypedDict):\n",
    "    amount_usd: float\n",
    "    total_usd: float\n",
    "    total_inr: float\n",
    "\n"
   ]
  },
  {
   "cell_type": "code",
   "execution_count": 13,
   "id": "fd02986d",
   "metadata": {},
   "outputs": [],
   "source": [
    "def calc_total(state: PortfolioState) -> PortfolioState:\n",
    "    state['total_usd'] = state['amount_usd'] * 1.08\n",
    "    return state\n",
    "def convert_to_inr(state: PortfolioState) -> PortfolioState:\n",
    "    state['total_inr'] = state['total_usd'] * 82.0\n",
    "    return state"
   ]
  },
  {
   "cell_type": "code",
   "execution_count": 14,
   "id": "a76d9b41",
   "metadata": {},
   "outputs": [],
   "source": [
    "from langgraph.graph import StateGraph,START, END\n",
    "builder = StateGraph(PortfolioState)\n",
    "builder.add_node(\"calc_total\", calc_total)\n",
    "builder.add_node(\"convert_to_inr\", convert_to_inr)\n",
    "builder.add_edge(START, \"calc_total\")\n",
    "builder.add_edge(\"calc_total\", \"convert_to_inr\")\n",
    "builder.add_edge(\"convert_to_inr\", END)\n",
    "graph = builder.compile()\n"
   ]
  },
  {
   "cell_type": "code",
   "execution_count": 15,
   "id": "ae0adfbe",
   "metadata": {},
   "outputs": [
    {
     "data": {
      "image/png": "[encoded data removed]",
      "text/plain": [
       "<IPython.core.display.Image object>"
      ]
     },
     "metadata": {},
     "output_type": "display_data"
    }
   ],
   "source": [
    "from IPython.display import display,Image\n",
    "display(Image(graph.get_graph().draw_mermaid_png()))"
   ]
  },
  {
   "cell_type": "code",
   "execution_count": 16,
   "id": "a7e529d1",
   "metadata": {},
   "outputs": [
    {
     "data": {
      "text/plain": [
       "{'amount_usd': 100.0, 'total_usd': 108.0, 'total_inr': 8856.0}"
      ]
     },
     "execution_count": 16,
     "metadata": {},
     "output_type": "execute_result"
    }
   ],
   "source": [
    "graph.invoke({'amount_usd': 100.0})"
   ]
  }
 ],
 "metadata": {
  "kernelspec": {
   "display_name": "langgraph-learning",
   "language": "python",
   "name": "python3"
  },
  "language_info": {
   "codemirror_mode": {
    "name": "ipython",
    "version": 3
   },
   "file_extension": ".py",
   "mimetype": "text/x-python",
   "name": "python",
   "nbconvert_exporter": "python",
   "pygments_lexer": "ipython3",
   "version": "3.13.5"
  }
 },
 "nbformat": 4,
 "nbformat_minor": 5
}
